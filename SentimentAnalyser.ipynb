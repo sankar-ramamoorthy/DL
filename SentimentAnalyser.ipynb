{
  "cells": [
    {
      "cell_type": "markdown",
      "metadata": {
        "id": "view-in-github",
        "colab_type": "text"
      },
      "source": [
        "<a href=\"https://colab.research.google.com/github/sankar-ramamoorthy/DL/blob/main/SentimentAnalyser.ipynb\" target=\"_parent\"><img src=\"https://colab.research.google.com/assets/colab-badge.svg\" alt=\"Open In Colab\"/></a>"
      ]
    },
    {
      "cell_type": "markdown",
      "source": [
        "https://neptune.ai/blog/10-nlp-projects\n",
        "\n",
        "https://github.com/koosha-t/Sentiment-Analysis-NLP-for-Marketting\n"
      ],
      "metadata": {
        "id": "H7BWsiBZnh5S"
      },
      "id": "H7BWsiBZnh5S"
    },
    {
      "cell_type": "markdown",
      "source": [
        "Arnab Som\n",
        "Sankar Ramamoorthy"
      ],
      "metadata": {
        "id": "4mXfymPHo8M3"
      },
      "id": "4mXfymPHo8M3"
    },
    {
      "cell_type": "markdown",
      "source": [
        "[![Open In Colab](https://colab.research.google.com/assets/colab-badge.svg)](https://colab.research.google.com/github/googlecolab/colabtools/blob/master/notebooks/colab-github-demo.ipynb)"
      ],
      "metadata": {
        "id": "IC-vQnALpP13"
      },
      "id": "IC-vQnALpP13"
    },
    {
      "cell_type": "markdown",
      "source": [
        "Version 0. 20230514"
      ],
      "metadata": {
        "id": "jip2yQhvpX-U"
      },
      "id": "jip2yQhvpX-U"
    },
    {
      "cell_type": "code",
      "execution_count": null,
      "id": "52a24efa",
      "metadata": {
        "id": "52a24efa",
        "outputId": "1f4aa1c6-d82b-4e89-fefd-b6f0a5e324c3"
      },
      "outputs": [
        {
          "name": "stdout",
          "output_type": "stream",
          "text": [
            "Collecting nltk\n",
            "  Using cached nltk-3.8.1-py3-none-any.whl (1.5 MB)\n",
            "Requirement already satisfied: tqdm in /Users/arnabsom/miniconda3/lib/python3.10/site-packages (from nltk) (4.65.0)\n",
            "Collecting regex>=2021.8.3\n",
            "  Using cached regex-2023.5.5-cp310-cp310-macosx_11_0_arm64.whl (288 kB)\n",
            "Requirement already satisfied: joblib in /Users/arnabsom/miniconda3/lib/python3.10/site-packages (from nltk) (1.2.0)\n",
            "Requirement already satisfied: click in /Users/arnabsom/miniconda3/lib/python3.10/site-packages (from nltk) (8.1.3)\n",
            "Installing collected packages: regex, nltk\n",
            "Successfully installed nltk-3.8.1 regex-2023.5.5\n",
            "Note: you may need to restart the kernel to use updated packages.\n"
          ]
        }
      ],
      "source": [
        "pip install nltk"
      ]
    },
    {
      "cell_type": "code",
      "execution_count": null,
      "id": "2f78c9f1",
      "metadata": {
        "id": "2f78c9f1",
        "outputId": "7e5ff2c9-d583-4df9-d867-fb1c60a8f7f2"
      },
      "outputs": [
        {
          "name": "stdout",
          "output_type": "stream",
          "text": [
            "Collecting seaborn\n",
            "  Downloading seaborn-0.12.2-py3-none-any.whl (293 kB)\n",
            "\u001b[2K     \u001b[90m━━━━━━━━━━━━━━━━━━━━━━━━━━━━━━━━━━━━━━━\u001b[0m \u001b[32m293.3/293.3 kB\u001b[0m \u001b[31m6.5 MB/s\u001b[0m eta \u001b[36m0:00:00\u001b[0m00:01\u001b[0m\n",
            "\u001b[?25hRequirement already satisfied: numpy!=1.24.0,>=1.17 in /Users/arnabsom/miniconda3/lib/python3.10/site-packages (from seaborn) (1.24.3)\n",
            "Requirement already satisfied: pandas>=0.25 in /Users/arnabsom/miniconda3/lib/python3.10/site-packages (from seaborn) (2.0.1)\n",
            "Collecting matplotlib!=3.6.1,>=3.1\n",
            "  Downloading matplotlib-3.7.1-cp310-cp310-macosx_11_0_arm64.whl (7.3 MB)\n",
            "\u001b[2K     \u001b[90m━━━━━━━━━━━━━━━━━━━━━━━━━━━━━━━━━━━━━━━━\u001b[0m \u001b[32m7.3/7.3 MB\u001b[0m \u001b[31m34.9 MB/s\u001b[0m eta \u001b[36m0:00:00\u001b[0m00:01\u001b[0m00:01\u001b[0m\n",
            "\u001b[?25hCollecting contourpy>=1.0.1\n",
            "  Downloading contourpy-1.0.7-cp310-cp310-macosx_11_0_arm64.whl (229 kB)\n",
            "\u001b[2K     \u001b[90m━━━━━━━━━━━━━━━━━━━━━━━━━━━━━━━━━━━━━━\u001b[0m \u001b[32m229.7/229.7 kB\u001b[0m \u001b[31m21.9 MB/s\u001b[0m eta \u001b[36m0:00:00\u001b[0m\n",
            "\u001b[?25hCollecting cycler>=0.10\n",
            "  Downloading cycler-0.11.0-py3-none-any.whl (6.4 kB)\n",
            "Requirement already satisfied: python-dateutil>=2.7 in /Users/arnabsom/miniconda3/lib/python3.10/site-packages (from matplotlib!=3.6.1,>=3.1->seaborn) (2.8.2)\n",
            "Requirement already satisfied: pillow>=6.2.0 in /Users/arnabsom/miniconda3/lib/python3.10/site-packages (from matplotlib!=3.6.1,>=3.1->seaborn) (9.5.0)\n",
            "Collecting fonttools>=4.22.0\n",
            "  Downloading fonttools-4.39.4-py3-none-any.whl (1.0 MB)\n",
            "\u001b[2K     \u001b[90m━━━━━━━━━━━━━━━━━━━━━━━━━━━━━━━━━━━━━━━━\u001b[0m \u001b[32m1.0/1.0 MB\u001b[0m \u001b[31m46.7 MB/s\u001b[0m eta \u001b[36m0:00:00\u001b[0m\n",
            "\u001b[?25hRequirement already satisfied: packaging>=20.0 in /Users/arnabsom/miniconda3/lib/python3.10/site-packages (from matplotlib!=3.6.1,>=3.1->seaborn) (23.0)\n",
            "Collecting kiwisolver>=1.0.1\n",
            "  Downloading kiwisolver-1.4.4-cp310-cp310-macosx_11_0_arm64.whl (63 kB)\n",
            "\u001b[2K     \u001b[90m━━━━━━━━━━━━━━━━━━━━━━━━━━━━━━━━━━━━━━━━\u001b[0m \u001b[32m63.2/63.2 kB\u001b[0m \u001b[31m8.0 MB/s\u001b[0m eta \u001b[36m0:00:00\u001b[0m\n",
            "\u001b[?25hCollecting pyparsing>=2.3.1\n",
            "  Downloading pyparsing-3.0.9-py3-none-any.whl (98 kB)\n",
            "\u001b[2K     \u001b[90m━━━━━━━━━━━━━━━━━━━━━━━━━━━━━━━━━━━━━━━━\u001b[0m \u001b[32m98.3/98.3 kB\u001b[0m \u001b[31m13.2 MB/s\u001b[0m eta \u001b[36m0:00:00\u001b[0m\n",
            "\u001b[?25hRequirement already satisfied: pytz>=2020.1 in /Users/arnabsom/miniconda3/lib/python3.10/site-packages (from pandas>=0.25->seaborn) (2023.3)\n",
            "Requirement already satisfied: tzdata>=2022.1 in /Users/arnabsom/miniconda3/lib/python3.10/site-packages (from pandas>=0.25->seaborn) (2023.3)\n",
            "Requirement already satisfied: six>=1.5 in /Users/arnabsom/miniconda3/lib/python3.10/site-packages (from python-dateutil>=2.7->matplotlib!=3.6.1,>=3.1->seaborn) (1.16.0)\n",
            "Installing collected packages: pyparsing, kiwisolver, fonttools, cycler, contourpy, matplotlib, seaborn\n",
            "Successfully installed contourpy-1.0.7 cycler-0.11.0 fonttools-4.39.4 kiwisolver-1.4.4 matplotlib-3.7.1 pyparsing-3.0.9 seaborn-0.12.2\n",
            "Note: you may need to restart the kernel to use updated packages.\n"
          ]
        }
      ],
      "source": [
        "pip install seaborn"
      ]
    },
    {
      "cell_type": "code",
      "execution_count": null,
      "id": "5b1f4048",
      "metadata": {
        "colab": {
          "base_uri": "https://localhost:8080/"
        },
        "id": "5b1f4048",
        "outputId": "dbf76fa9-7bbb-4184-ae83-01513cd03a52"
      },
      "outputs": [
        {
          "output_type": "stream",
          "name": "stdout",
          "text": [
            "Looking in indexes: https://pypi.org/simple, https://us-python.pkg.dev/colab-wheels/public/simple/\n",
            "Collecting ndjson\n",
            "  Downloading ndjson-0.3.1-py2.py3-none-any.whl (5.3 kB)\n",
            "Installing collected packages: ndjson\n",
            "Successfully installed ndjson-0.3.1\n"
          ]
        },
        {
          "output_type": "execute_result",
          "data": {
            "text/plain": []
          },
          "metadata": {},
          "execution_count": 2
        }
      ],
      "source": [
        "%%shell\n",
        "pip install ndjson"
      ]
    },
    {
      "cell_type": "code",
      "execution_count": null,
      "id": "7fca4626",
      "metadata": {
        "id": "7fca4626"
      },
      "outputs": [],
      "source": [
        "from nltk import sent_tokenize, pos_tag\n",
        "from nltk.tokenize import TreebankWordTokenizer\n",
        "from nltk.stem import WordNetLemmatizer\n",
        "from nltk.corpus import wordnet as wn\n",
        "from nltk.corpus import sentiwordnet as swn\n",
        "from nltk.sentiment.util import mark_negation\n",
        "from nltk import punkt\n",
        "from string import punctuation\n",
        "from IPython.display import display\n",
        "import pandas as pd\n",
        "import numpy as np\n",
        "import seaborn as sns\n",
        "import matplotlib.pyplot as plt\n",
        "import os\n",
        "import json\n",
        "import gzip\n",
        "import pandas as pd\n",
        "from urllib.request import urlopen\n",
        "import random\n",
        "import numpy as np\n",
        "from tqdm import tqdm_notebook as tqdm\n",
        "from collections import defaultdict\n",
        "import ndjson\n",
        "pd.set_option('display.max_columns', None)\n",
        "pd.set_option('display.max_colwidth', None)\n"
      ]
    },
    {
      "cell_type": "code",
      "execution_count": null,
      "id": "3ec8466c",
      "metadata": {
        "id": "3ec8466c",
        "outputId": "cb492de8-7111-43f5-a087-ccb623ae0073"
      },
      "outputs": [
        {
          "name": "stderr",
          "output_type": "stream",
          "text": [
            "[nltk_data] Downloading package punkt to /Users/arnabsom/nltk_data...\n",
            "[nltk_data]   Unzipping tokenizers/punkt.zip.\n"
          ]
        },
        {
          "data": {
            "text/plain": [
              "True"
            ]
          },
          "execution_count": 31,
          "metadata": {},
          "output_type": "execute_result"
        }
      ],
      "source": [
        "import nltk\n",
        "nltk.download('punkt')"
      ]
    },
    {
      "cell_type": "code",
      "execution_count": null,
      "id": "46a05112",
      "metadata": {
        "id": "46a05112",
        "outputId": "769e767f-c6e9-4052-ae92-7088a8d0d11f"
      },
      "outputs": [
        {
          "name": "stderr",
          "output_type": "stream",
          "text": [
            "[nltk_data] Downloading package averaged_perceptron_tagger to\n",
            "[nltk_data]     /Users/arnabsom/nltk_data...\n",
            "[nltk_data]   Unzipping taggers/averaged_perceptron_tagger.zip.\n"
          ]
        },
        {
          "data": {
            "text/plain": [
              "True"
            ]
          },
          "execution_count": 33,
          "metadata": {},
          "output_type": "execute_result"
        }
      ],
      "source": [
        "nltk.download('averaged_perceptron_tagger')"
      ]
    },
    {
      "cell_type": "code",
      "execution_count": null,
      "id": "68c25248",
      "metadata": {
        "id": "68c25248",
        "outputId": "57a97d87-4251-4372-a8dc-ffeebda879d8"
      },
      "outputs": [
        {
          "name": "stderr",
          "output_type": "stream",
          "text": [
            "[nltk_data] Downloading package wordnet to\n",
            "[nltk_data]     /Users/arnabsom/nltk_data...\n"
          ]
        },
        {
          "data": {
            "text/plain": [
              "True"
            ]
          },
          "execution_count": 35,
          "metadata": {},
          "output_type": "execute_result"
        }
      ],
      "source": [
        "nltk.download('wordnet')"
      ]
    },
    {
      "cell_type": "code",
      "execution_count": null,
      "id": "5ec4e54a",
      "metadata": {
        "id": "5ec4e54a",
        "outputId": "7a6496a5-0e06-4823-a17f-74ecbbfcbacf"
      },
      "outputs": [
        {
          "name": "stderr",
          "output_type": "stream",
          "text": [
            "[nltk_data] Downloading package sentiwordnet to\n",
            "[nltk_data]     /Users/arnabsom/nltk_data...\n",
            "[nltk_data]   Unzipping corpora/sentiwordnet.zip.\n"
          ]
        },
        {
          "data": {
            "text/plain": [
              "True"
            ]
          },
          "execution_count": 37,
          "metadata": {},
          "output_type": "execute_result"
        }
      ],
      "source": [
        "nltk.download('sentiwordnet')"
      ]
    },
    {
      "cell_type": "code",
      "execution_count": null,
      "id": "aa1a81d6",
      "metadata": {
        "id": "aa1a81d6"
      },
      "outputs": [],
      "source": [
        "def penn_to_wn(tag):\n",
        "    \"\"\"\n",
        "        Convert between the PennTreebank tags to simple Wordnet tags\n",
        "    \"\"\"\n",
        "    if tag.startswith('J'):\n",
        "        return wn.ADJ\n",
        "    elif tag.startswith('N'):\n",
        "        return wn.NOUN\n",
        "    elif tag.startswith('R'):\n",
        "        return wn.ADV\n",
        "    elif tag.startswith('V'):\n",
        "        return wn.VERB\n",
        "    return None"
      ]
    },
    {
      "cell_type": "code",
      "execution_count": null,
      "id": "4e3433d3",
      "metadata": {
        "id": "4e3433d3"
      },
      "outputs": [],
      "source": [
        "def get_sentiment_score(text):\n",
        "    \n",
        "    \"\"\"\n",
        "        This method returns the sentiment score of a given text using SentiWordNet sentiment scores.\n",
        "        input: text\n",
        "        output: numeric (double) score, >0 means positive sentiment and <0 means negative sentiment.\n",
        "    \"\"\"    \n",
        "    total_score = 0\n",
        "    #print(text)\n",
        "    raw_sentences = sent_tokenize(text)\n",
        "    #print(raw_sentences)\n",
        "    \n",
        "    for sentence in raw_sentences:\n",
        "\n",
        "        sent_score = 0     \n",
        "        sentence = str(sentence)\n",
        "        #print(sentence)\n",
        "        sentence = sentence.replace(\"<br />\",\" \").translate(str.maketrans('','',punctuation)).lower()\n",
        "        tokens = TreebankWordTokenizer().tokenize(text)\n",
        "        tags = pos_tag(tokens)\n",
        "        for word, tag in tags:\n",
        "            wn_tag = penn_to_wn(tag)\n",
        "            if not wn_tag:\n",
        "                continue\n",
        "            lemma = WordNetLemmatizer().lemmatize(word, pos=wn_tag)\n",
        "            if not lemma:\n",
        "                continue\n",
        "            synsets = wn.synsets(lemma, pos=wn_tag)\n",
        "            if not synsets:\n",
        "                continue\n",
        "            synset = synsets[0]\n",
        "            swn_synset = swn.senti_synset(synset.name())\n",
        "            sent_score += swn_synset.pos_score() - swn_synset.neg_score()\n",
        "\n",
        "        total_score = total_score + (sent_score / len(tokens))\n",
        "\n",
        "    \n",
        "    return (total_score / len(raw_sentences)) * 100"
      ]
    },
    {
      "cell_type": "code",
      "execution_count": null,
      "id": "4fbed998",
      "metadata": {
        "id": "4fbed998"
      },
      "outputs": [],
      "source": [
        "# reading reviews from json file\n",
        "with open('Video_Games_5.json') as f:\n",
        "    data = ndjson.load(f)"
      ]
    },
    {
      "cell_type": "code",
      "execution_count": null,
      "id": "10bd8ad6",
      "metadata": {
        "id": "10bd8ad6"
      },
      "outputs": [],
      "source": [
        "reviews_df = pd.DataFrame(data)"
      ]
    },
    {
      "cell_type": "code",
      "execution_count": null,
      "id": "4e34382d",
      "metadata": {
        "id": "4e34382d",
        "outputId": "01c5bd10-7937-474c-c183-b71372549ce7"
      },
      "outputs": [
        {
          "data": {
            "text/html": [
              "<div>\n",
              "<style scoped>\n",
              "    .dataframe tbody tr th:only-of-type {\n",
              "        vertical-align: middle;\n",
              "    }\n",
              "\n",
              "    .dataframe tbody tr th {\n",
              "        vertical-align: top;\n",
              "    }\n",
              "\n",
              "    .dataframe thead th {\n",
              "        text-align: right;\n",
              "    }\n",
              "</style>\n",
              "<table border=\"1\" class=\"dataframe\">\n",
              "  <thead>\n",
              "    <tr style=\"text-align: right;\">\n",
              "      <th></th>\n",
              "      <th>overall</th>\n",
              "      <th>verified</th>\n",
              "      <th>reviewTime</th>\n",
              "      <th>reviewerID</th>\n",
              "      <th>asin</th>\n",
              "      <th>reviewerName</th>\n",
              "      <th>reviewText</th>\n",
              "      <th>summary</th>\n",
              "      <th>unixReviewTime</th>\n",
              "      <th>vote</th>\n",
              "      <th>style</th>\n",
              "      <th>image</th>\n",
              "    </tr>\n",
              "  </thead>\n",
              "  <tbody>\n",
              "    <tr>\n",
              "      <th>0</th>\n",
              "      <td>5.0</td>\n",
              "      <td>True</td>\n",
              "      <td>10 17, 2015</td>\n",
              "      <td>A1HP7NVNPFMA4N</td>\n",
              "      <td>0700026657</td>\n",
              "      <td>Ambrosia075</td>\n",
              "      <td>This game is a bit hard to get the hang of, but when you do it's great.</td>\n",
              "      <td>but when you do it's great.</td>\n",
              "      <td>1445040000</td>\n",
              "      <td>NaN</td>\n",
              "      <td>NaN</td>\n",
              "      <td>NaN</td>\n",
              "    </tr>\n",
              "    <tr>\n",
              "      <th>1</th>\n",
              "      <td>4.0</td>\n",
              "      <td>False</td>\n",
              "      <td>07 27, 2015</td>\n",
              "      <td>A1JGAP0185YJI6</td>\n",
              "      <td>0700026657</td>\n",
              "      <td>travis</td>\n",
              "      <td>I played it a while but it was alright. The steam was a bit of trouble. The more they move these game to steam the more of a hard time I have activating and playing a game. But in spite of that it was fun, I liked it. Now I am looking forward to anno 2205 I really want to play my way to the moon.</td>\n",
              "      <td>But in spite of that it was fun, I liked it</td>\n",
              "      <td>1437955200</td>\n",
              "      <td>NaN</td>\n",
              "      <td>NaN</td>\n",
              "      <td>NaN</td>\n",
              "    </tr>\n",
              "    <tr>\n",
              "      <th>2</th>\n",
              "      <td>3.0</td>\n",
              "      <td>True</td>\n",
              "      <td>02 23, 2015</td>\n",
              "      <td>A1YJWEXHQBWK2B</td>\n",
              "      <td>0700026657</td>\n",
              "      <td>Vincent G. Mezera</td>\n",
              "      <td>ok game.</td>\n",
              "      <td>Three Stars</td>\n",
              "      <td>1424649600</td>\n",
              "      <td>NaN</td>\n",
              "      <td>NaN</td>\n",
              "      <td>NaN</td>\n",
              "    </tr>\n",
              "    <tr>\n",
              "      <th>3</th>\n",
              "      <td>2.0</td>\n",
              "      <td>True</td>\n",
              "      <td>02 20, 2015</td>\n",
              "      <td>A2204E1TH211HT</td>\n",
              "      <td>0700026657</td>\n",
              "      <td>Grandma KR</td>\n",
              "      <td>found the game a bit too complicated, not what I expected after having played 1602, 1503, and 1701</td>\n",
              "      <td>Two Stars</td>\n",
              "      <td>1424390400</td>\n",
              "      <td>NaN</td>\n",
              "      <td>NaN</td>\n",
              "      <td>NaN</td>\n",
              "    </tr>\n",
              "    <tr>\n",
              "      <th>4</th>\n",
              "      <td>5.0</td>\n",
              "      <td>True</td>\n",
              "      <td>12 25, 2014</td>\n",
              "      <td>A2RF5B5H74JLPE</td>\n",
              "      <td>0700026657</td>\n",
              "      <td>jon</td>\n",
              "      <td>great game, I love it and have played it since its arrived</td>\n",
              "      <td>love this game</td>\n",
              "      <td>1419465600</td>\n",
              "      <td>NaN</td>\n",
              "      <td>NaN</td>\n",
              "      <td>NaN</td>\n",
              "    </tr>\n",
              "  </tbody>\n",
              "</table>\n",
              "</div>"
            ],
            "text/plain": [
              "   overall  verified   reviewTime      reviewerID        asin   \n",
              "0      5.0      True  10 17, 2015  A1HP7NVNPFMA4N  0700026657  \\\n",
              "1      4.0     False  07 27, 2015  A1JGAP0185YJI6  0700026657   \n",
              "2      3.0      True  02 23, 2015  A1YJWEXHQBWK2B  0700026657   \n",
              "3      2.0      True  02 20, 2015  A2204E1TH211HT  0700026657   \n",
              "4      5.0      True  12 25, 2014  A2RF5B5H74JLPE  0700026657   \n",
              "\n",
              "        reviewerName   \n",
              "0        Ambrosia075  \\\n",
              "1             travis   \n",
              "2  Vincent G. Mezera   \n",
              "3         Grandma KR   \n",
              "4                jon   \n",
              "\n",
              "                                                                                                                                                                                                                                                                                                  reviewText   \n",
              "0                                                                                                                                                                                                                                    This game is a bit hard to get the hang of, but when you do it's great.  \\\n",
              "1  I played it a while but it was alright. The steam was a bit of trouble. The more they move these game to steam the more of a hard time I have activating and playing a game. But in spite of that it was fun, I liked it. Now I am looking forward to anno 2205 I really want to play my way to the moon.   \n",
              "2                                                                                                                                                                                                                                                                                                   ok game.   \n",
              "3                                                                                                                                                                                                         found the game a bit too complicated, not what I expected after having played 1602, 1503, and 1701   \n",
              "4                                                                                                                                                                                                                                                 great game, I love it and have played it since its arrived   \n",
              "\n",
              "                                       summary  unixReviewTime vote style   \n",
              "0                  but when you do it's great.      1445040000  NaN   NaN  \\\n",
              "1  But in spite of that it was fun, I liked it      1437955200  NaN   NaN   \n",
              "2                                  Three Stars      1424649600  NaN   NaN   \n",
              "3                                    Two Stars      1424390400  NaN   NaN   \n",
              "4                               love this game      1419465600  NaN   NaN   \n",
              "\n",
              "  image  \n",
              "0   NaN  \n",
              "1   NaN  \n",
              "2   NaN  \n",
              "3   NaN  \n",
              "4   NaN  "
            ]
          },
          "execution_count": 6,
          "metadata": {},
          "output_type": "execute_result"
        }
      ],
      "source": [
        "reviews_df.head()"
      ]
    },
    {
      "cell_type": "code",
      "execution_count": null,
      "id": "b36ecfff",
      "metadata": {
        "id": "b36ecfff",
        "outputId": "71097836-7207-48f9-9dc7-1339f5d9b054"
      },
      "outputs": [
        {
          "data": {
            "text/plain": [
              "<Axes: xlabel='overall', ylabel='count'>"
            ]
          },
          "execution_count": 7,
          "metadata": {},
          "output_type": "execute_result"
        },
        {
          "data": {
            "image/png": "[encoded data removed]",
            "text/plain": [
              "<Figure size 640x480 with 1 Axes>"
            ]
          },
          "metadata": {},
          "output_type": "display_data"
        }
      ],
      "source": [
        "sns.countplot(data = reviews_df, x='overall')"
      ]
    },
    {
      "cell_type": "code",
      "execution_count": null,
      "id": "492f7bc3",
      "metadata": {
        "id": "492f7bc3",
        "outputId": "f48ba360-ab02-4c22-df68-1d5b909c620e"
      },
      "outputs": [
        {
          "data": {
            "text/plain": [
              "17408"
            ]
          },
          "execution_count": 8,
          "metadata": {},
          "output_type": "execute_result"
        }
      ],
      "source": [
        "len(reviews_df['asin'].value_counts(dropna=False))"
      ]
    },
    {
      "cell_type": "code",
      "execution_count": null,
      "id": "e6f2226e",
      "metadata": {
        "id": "e6f2226e"
      },
      "outputs": [],
      "source": [
        "one_1500 = reviews_df[reviews_df['overall']==1.0].sample(n=1500)\n",
        "two_500 = reviews_df[reviews_df['overall']==2.0].sample(n=500)\n",
        "three_500 = reviews_df[reviews_df['overall']==3.0].sample(n=500)\n",
        "four_500 = reviews_df[reviews_df['overall']==4.0].sample(n=500)\n",
        "five_1500 = reviews_df[reviews_df['overall']==5.0].sample(n=1500)"
      ]
    },
    {
      "cell_type": "code",
      "execution_count": null,
      "id": "bbf90c42",
      "metadata": {
        "id": "bbf90c42"
      },
      "outputs": [],
      "source": [
        "undersampled_reviews = pd.concat([one_1500, two_500, three_500, four_500, five_1500], axis=0)"
      ]
    },
    {
      "cell_type": "code",
      "execution_count": null,
      "id": "892c20a3",
      "metadata": {
        "id": "892c20a3",
        "outputId": "a3ebf11c-50d0-4106-f314-55172c341a89"
      },
      "outputs": [
        {
          "data": {
            "text/plain": [
              "overall\n",
              "1.0    1500\n",
              "5.0    1500\n",
              "2.0     500\n",
              "3.0     500\n",
              "4.0     500\n",
              "Name: count, dtype: int64"
            ]
          },
          "execution_count": 11,
          "metadata": {},
          "output_type": "execute_result"
        }
      ],
      "source": [
        "undersampled_reviews['overall'].value_counts(dropna=False)"
      ]
    },
    {
      "cell_type": "code",
      "execution_count": null,
      "id": "5ff52ebc",
      "metadata": {
        "id": "5ff52ebc",
        "outputId": "7deea886-2f98-43e2-a2bd-7f1e3b25bfed"
      },
      "outputs": [
        {
          "data": {
            "text/plain": [
              "<Axes: xlabel='overall', ylabel='count'>"
            ]
          },
          "execution_count": 12,
          "metadata": {},
          "output_type": "execute_result"
        },
        {
          "data": {
            "image/png": "[encoded data removed]",
            "text/plain": [
              "<Figure size 640x480 with 1 Axes>"
            ]
          },
          "metadata": {},
          "output_type": "display_data"
        }
      ],
      "source": [
        "sns.countplot(data=undersampled_reviews, x='overall')"
      ]
    },
    {
      "cell_type": "code",
      "execution_count": null,
      "id": "aa01c74a",
      "metadata": {
        "id": "aa01c74a"
      },
      "outputs": [],
      "source": [
        "sample_100K_revs = reviews_df.sample(n=100000, random_state=42)"
      ]
    },
    {
      "cell_type": "code",
      "execution_count": null,
      "id": "ba68fca4",
      "metadata": {
        "id": "ba68fca4"
      },
      "outputs": [],
      "source": [
        "undersampled_reviews.to_csv(\"small_corpus.csv\")"
      ]
    },
    {
      "cell_type": "code",
      "execution_count": null,
      "id": "c35fdb58",
      "metadata": {
        "id": "c35fdb58"
      },
      "outputs": [],
      "source": [
        "sample_100K_revs.to_csv(\"big_corpus.csv\")"
      ]
    },
    {
      "cell_type": "code",
      "execution_count": null,
      "id": "3d8d40a8",
      "metadata": {
        "id": "3d8d40a8"
      },
      "outputs": [],
      "source": [
        "reviews = pd.read_csv(\"small_corpus.csv\")"
      ]
    },
    {
      "cell_type": "code",
      "execution_count": null,
      "id": "5cb30093",
      "metadata": {
        "id": "5cb30093",
        "outputId": "0ab2ffe4-7829-4131-d7f3-53fc4bbfd542"
      },
      "outputs": [
        {
          "data": {
            "text/plain": [
              "(4500, 13)"
            ]
          },
          "execution_count": 18,
          "metadata": {},
          "output_type": "execute_result"
        }
      ],
      "source": [
        "reviews.shape"
      ]
    },
    {
      "cell_type": "code",
      "execution_count": null,
      "id": "ee347e4c",
      "metadata": {
        "id": "ee347e4c",
        "outputId": "f7da9dae-a5e1-4a5f-f6ba-3a6abf5f21aa"
      },
      "outputs": [
        {
          "data": {
            "text/html": [
              "<div>\n",
              "<style scoped>\n",
              "    .dataframe tbody tr th:only-of-type {\n",
              "        vertical-align: middle;\n",
              "    }\n",
              "\n",
              "    .dataframe tbody tr th {\n",
              "        vertical-align: top;\n",
              "    }\n",
              "\n",
              "    .dataframe thead th {\n",
              "        text-align: right;\n",
              "    }\n",
              "</style>\n",
              "<table border=\"1\" class=\"dataframe\">\n",
              "  <thead>\n",
              "    <tr style=\"text-align: right;\">\n",
              "      <th></th>\n",
              "      <th>Unnamed: 0</th>\n",
              "      <th>overall</th>\n",
              "      <th>verified</th>\n",
              "      <th>reviewTime</th>\n",
              "      <th>reviewerID</th>\n",
              "      <th>asin</th>\n",
              "      <th>reviewerName</th>\n",
              "      <th>reviewText</th>\n",
              "      <th>summary</th>\n",
              "      <th>unixReviewTime</th>\n",
              "      <th>vote</th>\n",
              "      <th>style</th>\n",
              "      <th>image</th>\n",
              "    </tr>\n",
              "  </thead>\n",
              "  <tbody>\n",
              "    <tr>\n",
              "      <th>0</th>\n",
              "      <td>36315</td>\n",
              "      <td>1.0</td>\n",
              "      <td>False</td>\n",
              "      <td>04 5, 2003</td>\n",
              "      <td>A3F7M6QA0I304Z</td>\n",
              "      <td>B00006B5T8</td>\n",
              "      <td>Robo Stiggy</td>\n",
              "      <td>I was excited about this game at first but found the game to be a big disappointment.  Zenasaga is a much better game.\\nMy biggest disappointment was game play.  Graphics are poor and the dungeons are plain and boring.  Bandai should take note of the game play in Kingdom Hearts.\\nThe movies, however, are well done.\\nA fiend broke his .hack CD.  Bandai would not replace it for a small fee as other video game companies do.  They wanted the full [amount].</td>\n",
              "      <td>Disappointing</td>\n",
              "      <td>1049500800</td>\n",
              "      <td>3.0</td>\n",
              "      <td>NaN</td>\n",
              "      <td>NaN</td>\n",
              "    </tr>\n",
              "    <tr>\n",
              "      <th>1</th>\n",
              "      <td>237089</td>\n",
              "      <td>1.0</td>\n",
              "      <td>True</td>\n",
              "      <td>03 26, 2015</td>\n",
              "      <td>A16CHJ8LZNIZ8S</td>\n",
              "      <td>B0050SVH18</td>\n",
              "      <td>ab and cd</td>\n",
              "      <td>This is the case why not to blindly trust other reviews. This game is highly repetitive. You kill a throng of enemy and reach another area and kill another throng of enemy with zero variation and on and on. There are reasons why this game is $10 now.</td>\n",
              "      <td>This is the case why not to blindly trust other ...</td>\n",
              "      <td>1427328000</td>\n",
              "      <td>2.0</td>\n",
              "      <td>NaN</td>\n",
              "      <td>NaN</td>\n",
              "    </tr>\n",
              "    <tr>\n",
              "      <th>2</th>\n",
              "      <td>467054</td>\n",
              "      <td>1.0</td>\n",
              "      <td>True</td>\n",
              "      <td>06 7, 2015</td>\n",
              "      <td>A114ZPM7ZABSI7</td>\n",
              "      <td>B000NJH6RS</td>\n",
              "      <td>Teresa Rowell</td>\n",
              "      <td>Did not work</td>\n",
              "      <td>One Star</td>\n",
              "      <td>1433635200</td>\n",
              "      <td>NaN</td>\n",
              "      <td>{'Platform:': ' PlayStation2'}</td>\n",
              "      <td>NaN</td>\n",
              "    </tr>\n",
              "    <tr>\n",
              "      <th>3</th>\n",
              "      <td>371188</td>\n",
              "      <td>1.0</td>\n",
              "      <td>False</td>\n",
              "      <td>06 25, 2015</td>\n",
              "      <td>A1GAXMDQNDBOCH</td>\n",
              "      <td>B00M37WR90</td>\n",
              "      <td>Araceli Moreno</td>\n",
              "      <td>This is honesty the worst bundle and game ever do not even think about buying this or actually buy this you will regret it because it sucks so much the graphics and story is horrible</td>\n",
              "      <td>Worst game ever</td>\n",
              "      <td>1435190400</td>\n",
              "      <td>NaN</td>\n",
              "      <td>{'Format:': ' Computer Game'}</td>\n",
              "      <td>NaN</td>\n",
              "    </tr>\n",
              "    <tr>\n",
              "      <th>4</th>\n",
              "      <td>450183</td>\n",
              "      <td>1.0</td>\n",
              "      <td>False</td>\n",
              "      <td>08 21, 2009</td>\n",
              "      <td>A20DZX38KRBIT8</td>\n",
              "      <td>B00004SVSG</td>\n",
              "      <td>Deimos</td>\n",
              "      <td>This is better then the latter MI games but it still sucks so bad it's laughable.</td>\n",
              "      <td>This sucks</td>\n",
              "      <td>1250812800</td>\n",
              "      <td>NaN</td>\n",
              "      <td>NaN</td>\n",
              "      <td>NaN</td>\n",
              "    </tr>\n",
              "  </tbody>\n",
              "</table>\n",
              "</div>"
            ],
            "text/plain": [
              "   Unnamed: 0  overall  verified   reviewTime      reviewerID        asin   \n",
              "0       36315      1.0     False   04 5, 2003  A3F7M6QA0I304Z  B00006B5T8  \\\n",
              "1      237089      1.0      True  03 26, 2015  A16CHJ8LZNIZ8S  B0050SVH18   \n",
              "2      467054      1.0      True   06 7, 2015  A114ZPM7ZABSI7  B000NJH6RS   \n",
              "3      371188      1.0     False  06 25, 2015  A1GAXMDQNDBOCH  B00M37WR90   \n",
              "4      450183      1.0     False  08 21, 2009  A20DZX38KRBIT8  B00004SVSG   \n",
              "\n",
              "     reviewerName   \n",
              "0     Robo Stiggy  \\\n",
              "1       ab and cd   \n",
              "2   Teresa Rowell   \n",
              "3  Araceli Moreno   \n",
              "4          Deimos   \n",
              "\n",
              "                                                                                                                                                                                                                                                                                                                                                                                                                                                                 reviewText   \n",
              "0  I was excited about this game at first but found the game to be a big disappointment.  Zenasaga is a much better game.\\nMy biggest disappointment was game play.  Graphics are poor and the dungeons are plain and boring.  Bandai should take note of the game play in Kingdom Hearts.\\nThe movies, however, are well done.\\nA fiend broke his .hack CD.  Bandai would not replace it for a small fee as other video game companies do.  They wanted the full [amount].  \\\n",
              "1                                                                                                                                                                                                                This is the case why not to blindly trust other reviews. This game is highly repetitive. You kill a throng of enemy and reach another area and kill another throng of enemy with zero variation and on and on. There are reasons why this game is $10 now.   \n",
              "2                                                                                                                                                                                                                                                                                                                                                                                                                                                              Did not work   \n",
              "3                                                                                                                                                                                                                                                                                    This is honesty the worst bundle and game ever do not even think about buying this or actually buy this you will regret it because it sucks so much the graphics and story is horrible   \n",
              "4                                                                                                                                                                                                                                                                                                                                                                                         This is better then the latter MI games but it still sucks so bad it's laughable.   \n",
              "\n",
              "                                               summary  unixReviewTime  vote   \n",
              "0                                        Disappointing      1049500800   3.0  \\\n",
              "1  This is the case why not to blindly trust other ...      1427328000   2.0   \n",
              "2                                             One Star      1433635200   NaN   \n",
              "3                                      Worst game ever      1435190400   NaN   \n",
              "4                                           This sucks      1250812800   NaN   \n",
              "\n",
              "                            style image  \n",
              "0                             NaN   NaN  \n",
              "1                             NaN   NaN  \n",
              "2  {'Platform:': ' PlayStation2'}   NaN  \n",
              "3   {'Format:': ' Computer Game'}   NaN  \n",
              "4                             NaN   NaN  "
            ]
          },
          "execution_count": 19,
          "metadata": {},
          "output_type": "execute_result"
        }
      ],
      "source": [
        "reviews.head()"
      ]
    },
    {
      "cell_type": "code",
      "execution_count": null,
      "id": "3c1a93e9",
      "metadata": {
        "id": "3c1a93e9"
      },
      "outputs": [],
      "source": [
        "reviews.dropna(subset=['reviewText'], inplace=True)\n"
      ]
    },
    {
      "cell_type": "code",
      "execution_count": null,
      "id": "0a703835",
      "metadata": {
        "id": "0a703835"
      },
      "outputs": [],
      "source": [
        "reviews['swn_score'] = reviews['reviewText'].apply(lambda text : get_sentiment_score(text))"
      ]
    },
    {
      "cell_type": "code",
      "execution_count": null,
      "id": "56de8a8b",
      "metadata": {
        "id": "56de8a8b",
        "outputId": "e4afb402-6182-4e68-f25b-c34d5f2486df"
      },
      "outputs": [
        {
          "data": {
            "text/html": [
              "<div>\n",
              "<style scoped>\n",
              "    .dataframe tbody tr th:only-of-type {\n",
              "        vertical-align: middle;\n",
              "    }\n",
              "\n",
              "    .dataframe tbody tr th {\n",
              "        vertical-align: top;\n",
              "    }\n",
              "\n",
              "    .dataframe thead th {\n",
              "        text-align: right;\n",
              "    }\n",
              "</style>\n",
              "<table border=\"1\" class=\"dataframe\">\n",
              "  <thead>\n",
              "    <tr style=\"text-align: right;\">\n",
              "      <th></th>\n",
              "      <th>reviewText</th>\n",
              "      <th>swn_score</th>\n",
              "    </tr>\n",
              "  </thead>\n",
              "  <tbody>\n",
              "    <tr>\n",
              "      <th>4288</th>\n",
              "      <td>This takes me back to when video games were about fun and funky characters, pure nostalgia pop</td>\n",
              "      <td>0.694444</td>\n",
              "    </tr>\n",
              "    <tr>\n",
              "      <th>3099</th>\n",
              "      <td>This case is really great for protecting against damage.  It's pretty strong and some space for some games.  However we don't find that usefull because we donwload all our games.  This is twice the price of the product I purchased on eBay.  They both are great.</td>\n",
              "      <td>2.295918</td>\n",
              "    </tr>\n",
              "    <tr>\n",
              "      <th>4139</th>\n",
              "      <td>Delivered in as promised condition</td>\n",
              "      <td>0.000000</td>\n",
              "    </tr>\n",
              "    <tr>\n",
              "      <th>3783</th>\n",
              "      <td>My nephew enjoys playing this game. He was really excited when it came and played it right away. Thank you.</td>\n",
              "      <td>4.761905</td>\n",
              "    </tr>\n",
              "    <tr>\n",
              "      <th>3797</th>\n",
              "      <td>Pretty good headset but the x12 is a whole better. I figured after one side of my x12s quit working I would try a different kind but I made a mistake. These headphones are ok but they don't even compare a little bit to my old x12s or the px12s which was another favorite. I'm using this headset on my 360 with the old px12 cable thing and it works the sound is good but the bass doesn't come close to the x12s. The Mic on this you literally have to talk if you svc another person were 20 feet apart and trying to communicate. I've tried these on my Xbox one for about 3 seconds but got tired of yelling so the people could barely hear me and plugged in my astro a40. Another bad thing on these if you turn the Mic volume up there's an annoying static noise and that's probably why you have to yell but the chat sound is horrible. It's like listening to your friend talk thru a tin can connected to another tin can by string but 32 times worse.</td>\n",
              "      <td>0.897436</td>\n",
              "    </tr>\n",
              "  </tbody>\n",
              "</table>\n",
              "</div>"
            ],
            "text/plain": [
              "                                                                                                                                                                                                                                                                                                                                                                                                                                                                                                                                                                                                                                                                                                                                                                                                                                                                                                                                                                           reviewText   \n",
              "4288                                                                                                                                                                                                                                                                                                                                                                                                                                                                                                                                                                                                                                                                                                                                                                                                                                                                                   This takes me back to when video games were about fun and funky characters, pure nostalgia pop  \\\n",
              "3099                                                                                                                                                                                                                                                                                                                                                                                                                                                                                                                                                                                                                                                                                                            This case is really great for protecting against damage.  It's pretty strong and some space for some games.  However we don't find that usefull because we donwload all our games.  This is twice the price of the product I purchased on eBay.  They both are great.   \n",
              "4139                                                                                                                                                                                                                                                                                                                                                                                                                                                                                                                                                                                                                                                                                                                                                                                                                                                                                                                                               Delivered in as promised condition   \n",
              "3783                                                                                                                                                                                                                                                                                                                                                                                                                                                                                                                                                                                                                                                                                                                                                                                                                                                                      My nephew enjoys playing this game. He was really excited when it came and played it right away. Thank you.   \n",
              "3797  Pretty good headset but the x12 is a whole better. I figured after one side of my x12s quit working I would try a different kind but I made a mistake. These headphones are ok but they don't even compare a little bit to my old x12s or the px12s which was another favorite. I'm using this headset on my 360 with the old px12 cable thing and it works the sound is good but the bass doesn't come close to the x12s. The Mic on this you literally have to talk if you svc another person were 20 feet apart and trying to communicate. I've tried these on my Xbox one for about 3 seconds but got tired of yelling so the people could barely hear me and plugged in my astro a40. Another bad thing on these if you turn the Mic volume up there's an annoying static noise and that's probably why you have to yell but the chat sound is horrible. It's like listening to your friend talk thru a tin can connected to another tin can by string but 32 times worse.   \n",
              "\n",
              "      swn_score  \n",
              "4288   0.694444  \n",
              "3099   2.295918  \n",
              "4139   0.000000  \n",
              "3783   4.761905  \n",
              "3797   0.897436  "
            ]
          },
          "execution_count": 41,
          "metadata": {},
          "output_type": "execute_result"
        }
      ],
      "source": [
        "reviews[['reviewText','swn_score']].sample(5)"
      ]
    },
    {
      "cell_type": "code",
      "execution_count": null,
      "id": "36846a20",
      "metadata": {
        "id": "36846a20",
        "outputId": "95db3a82-a7e6-4824-f86d-7a0fbfed3456"
      },
      "outputs": [
        {
          "data": {
            "image/png": "[encoded data removed]",
            "text/plain": [
              "<Figure size 2000x1000 with 1 Axes>"
            ]
          },
          "metadata": {},
          "output_type": "display_data"
        }
      ],
      "source": [
        "fig , ax = plt.subplots(nrows=1, ncols=1, figsize=(20,10))\n",
        "sns.histplot(x='swn_score', data=reviews.query(\"swn_score < 8 and swn_score > -8\"), ax=ax)\n",
        "plt.show()"
      ]
    },
    {
      "cell_type": "code",
      "execution_count": null,
      "id": "1427dae1",
      "metadata": {
        "id": "1427dae1"
      },
      "outputs": [],
      "source": [
        "reviews['swn_sentiment'] = reviews['swn_score'].apply(lambda x: \"positive\" if x>1 else (\"negative\" if x<0.5 else \"neutral\"))\n"
      ]
    },
    {
      "cell_type": "code",
      "execution_count": null,
      "id": "8ffdf088",
      "metadata": {
        "id": "8ffdf088",
        "outputId": "026553a7-ab61-4ff2-8881-e88aa5cd37dd"
      },
      "outputs": [
        {
          "data": {
            "text/plain": [
              "swn_sentiment\n",
              "positive    2227\n",
              "negative    1846\n",
              "neutral      424\n",
              "Name: count, dtype: int64"
            ]
          },
          "execution_count": 45,
          "metadata": {},
          "output_type": "execute_result"
        }
      ],
      "source": [
        "reviews['swn_sentiment'].value_counts(dropna=False)"
      ]
    },
    {
      "cell_type": "code",
      "execution_count": null,
      "id": "3eaf0c9c",
      "metadata": {
        "id": "3eaf0c9c",
        "outputId": "6439ee8a-15ac-4f7e-d40f-fe166da24264"
      },
      "outputs": [
        {
          "data": {
            "text/plain": [
              "<Axes: xlabel='overall', ylabel='count'>"
            ]
          },
          "execution_count": 46,
          "metadata": {},
          "output_type": "execute_result"
        },
        {
          "data": {
            "image/png": "[encoded data removed]",
            "text/plain": [
              "<Figure size 640x480 with 1 Axes>"
            ]
          },
          "metadata": {},
          "output_type": "display_data"
        }
      ],
      "source": [
        "sns.countplot(x='overall', hue='swn_sentiment' ,data = reviews)"
      ]
    },
    {
      "cell_type": "code",
      "execution_count": null,
      "id": "eb4d4202",
      "metadata": {
        "id": "eb4d4202",
        "outputId": "8ee05979-a933-4161-fdca-ffb3cd575f13"
      },
      "outputs": [
        {
          "data": {
            "text/plain": [
              "<Axes: xlabel='swn_sentiment', ylabel='overall'>"
            ]
          },
          "execution_count": 47,
          "metadata": {},
          "output_type": "execute_result"
        },
        {
          "data": {
            "image/png": "[encoded data removed]",
            "text/plain": [
              "<Figure size 640x480 with 1 Axes>"
            ]
          },
          "metadata": {},
          "output_type": "display_data"
        }
      ],
      "source": [
        "sns.boxenplot(x='swn_sentiment', y='overall', data = reviews)"
      ]
    },
    {
      "cell_type": "code",
      "execution_count": null,
      "id": "0156aa9b",
      "metadata": {
        "id": "0156aa9b",
        "outputId": "c5659ec2-64c8-47ec-bdf0-cf20e84aa5c7"
      },
      "outputs": [
        {
          "data": {
            "image/png": "[encoded data removed]",
            "text/plain": [
              "<Figure size 1200x700 with 1 Axes>"
            ]
          },
          "metadata": {},
          "output_type": "display_data"
        }
      ],
      "source": [
        "fig, ax = plt.subplots(nrows=1, ncols=1, figsize = (12,7))\n",
        "sns.boxenplot(x='overall', y='swn_score', data = reviews, ax=ax)\n",
        "plt.show()"
      ]
    },
    {
      "cell_type": "code",
      "execution_count": null,
      "id": "505ffdb8",
      "metadata": {
        "id": "505ffdb8"
      },
      "outputs": [],
      "source": [
        "reviews['true_sentiment'] = \\\n",
        "    reviews['overall'].apply(lambda x: \"positive\" if x>=4 else (\"neutral\" if x==3 else \"negative\"))"
      ]
    },
    {
      "cell_type": "code",
      "execution_count": null,
      "id": "7708ae8c",
      "metadata": {
        "id": "7708ae8c"
      },
      "outputs": [],
      "source": [
        "y_swn_pred, y_true = reviews['swn_sentiment'].tolist(), reviews['true_sentiment'].tolist()"
      ]
    },
    {
      "cell_type": "code",
      "execution_count": null,
      "id": "cc99b928",
      "metadata": {
        "id": "cc99b928",
        "outputId": "cce93282-3d7a-4425-9b06-307242b7cb9d"
      },
      "outputs": [
        {
          "data": {
            "text/plain": [
              "(4497, 4497)"
            ]
          },
          "execution_count": 51,
          "metadata": {},
          "output_type": "execute_result"
        }
      ],
      "source": [
        "len(y_swn_pred), len(y_true)"
      ]
    },
    {
      "cell_type": "code",
      "execution_count": null,
      "id": "1dc7c626",
      "metadata": {
        "id": "1dc7c626"
      },
      "outputs": [],
      "source": [
        "from sklearn.metrics import confusion_matrix\n",
        "cm = confusion_matrix(y_true, y_swn_pred)"
      ]
    },
    {
      "cell_type": "code",
      "execution_count": null,
      "id": "c55b2135",
      "metadata": {
        "id": "c55b2135",
        "outputId": "892f3bed-5376-43f2-c6e2-45ae5acae576"
      },
      "outputs": [
        {
          "data": {
            "image/png": "[encoded data removed]",
            "text/plain": [
              "<Figure size 800x600 with 2 Axes>"
            ]
          },
          "metadata": {},
          "output_type": "display_data"
        }
      ],
      "source": [
        "fig , ax = plt.subplots(nrows=1, ncols=1, figsize=(8,6))\n",
        "sns.heatmap(cm, cmap='viridis_r', annot=True, fmt='d', square=True, ax=ax)\n",
        "ax.set_xlabel('Predicted')\n",
        "ax.set_ylabel('True');"
      ]
    },
    {
      "cell_type": "code",
      "execution_count": null,
      "id": "d6600df9",
      "metadata": {
        "id": "d6600df9"
      },
      "outputs": [],
      "source": []
    }
  ],
  "metadata": {
    "kernelspec": {
      "display_name": "Python 3 (ipykernel)",
      "language": "python",
      "name": "python3"
    },
    "language_info": {
      "codemirror_mode": {
        "name": "ipython",
        "version": 3
      },
      "file_extension": ".py",
      "mimetype": "text/x-python",
      "name": "python",
      "nbconvert_exporter": "python",
      "pygments_lexer": "ipython3",
      "version": "3.10.10"
    },
    "colab": {
      "provenance": [],
      "include_colab_link": true
    }
  },
  "nbformat": 4,
  "nbformat_minor": 5
}